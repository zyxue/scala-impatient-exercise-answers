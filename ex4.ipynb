{
 "cells": [
  {
   "cell_type": "markdown",
   "metadata": {},
   "source": [
    "#### 1\\. Set up a map of prices for a number of gizmos that you covet. Then produce a second map with the same keys and the prices at a 10 percent discount"
   ]
  },
  {
   "cell_type": "code",
   "execution_count": 1,
   "metadata": {},
   "outputs": [
    {
     "data": {
      "text/plain": [
       "\u001b[36mm1\u001b[39m: \u001b[32mMap\u001b[39m[\u001b[32mString\u001b[39m, \u001b[32mInt\u001b[39m] = \u001b[33mMap\u001b[39m(\u001b[32m\"toy\"\u001b[39m -> \u001b[32m1\u001b[39m, \u001b[32m\"bag\"\u001b[39m -> \u001b[32m3\u001b[39m, \u001b[32m\"chair\"\u001b[39m -> \u001b[32m8\u001b[39m)"
      ]
     },
     "execution_count": 1,
     "metadata": {},
     "output_type": "execute_result"
    }
   ],
   "source": [
    "val m1 = Map(\"toy\" -> 1, \"bag\" -> 3, \"chair\" -> 8)"
   ]
  },
  {
   "cell_type": "code",
   "execution_count": 2,
   "metadata": {},
   "outputs": [
    {
     "data": {
      "text/plain": [
       "\u001b[36mm2\u001b[39m: \u001b[32mMap\u001b[39m[\u001b[32mString\u001b[39m, \u001b[32mDouble\u001b[39m] = \u001b[33mMap\u001b[39m(\u001b[32m\"toy\"\u001b[39m -> \u001b[32m0.1\u001b[39m, \u001b[32m\"bag\"\u001b[39m -> \u001b[32m0.30000000000000004\u001b[39m, \u001b[32m\"chair\"\u001b[39m -> \u001b[32m0.8\u001b[39m)"
      ]
     },
     "execution_count": 2,
     "metadata": {},
     "output_type": "execute_result"
    }
   ],
   "source": [
    "val m2 = for ((k, v) <- m1) yield (k, v * 0.1)"
   ]
  },
  {
   "cell_type": "markdown",
   "metadata": {},
   "source": [
    "#### 2\\. Count words in a file"
   ]
  },
  {
   "cell_type": "code",
   "execution_count": 3,
   "metadata": {},
   "outputs": [
    {
     "data": {
      "text/plain": [
       "\u001b[36min\u001b[39m: \u001b[32mio\u001b[39m.\u001b[32mBufferedSource\u001b[39m = empty iterator\n",
       "\u001b[36mtokens\u001b[39m: \u001b[32mArray\u001b[39m[\u001b[32mString\u001b[39m] = \u001b[33mArray\u001b[39m(\u001b[32m\"hello\"\u001b[39m, \u001b[32m\"world.\"\u001b[39m, \u001b[32m\"This\"\u001b[39m, \u001b[32m\"is\"\u001b[39m, \u001b[32m\"a\"\u001b[39m, \u001b[32m\"mock\"\u001b[39m, \u001b[32m\"file.\"\u001b[39m, \u001b[32m\"hello\"\u001b[39m, \u001b[32m\"world.\"\u001b[39m)"
      ]
     },
     "execution_count": 3,
     "metadata": {},
     "output_type": "execute_result"
    }
   ],
   "source": [
    "val in = scala.io.Source.fromFile(\"./ex4-mockfile.txt\")\n",
    "val tokens = in.mkString.split(\"\\\\s+\")"
   ]
  },
  {
   "cell_type": "code",
   "execution_count": 4,
   "metadata": {},
   "outputs": [
    {
     "data": {
      "text/plain": [
       "\u001b[36mcount\u001b[39m: \u001b[32mcollection\u001b[39m.\u001b[32mmutable\u001b[39m.\u001b[32mHashMap\u001b[39m[\u001b[32mString\u001b[39m, \u001b[32mInt\u001b[39m] = \u001b[33mMap\u001b[39m(\n",
       "  \u001b[32m\"is\"\u001b[39m -> \u001b[32m1\u001b[39m,\n",
       "  \u001b[32m\"This\"\u001b[39m -> \u001b[32m1\u001b[39m,\n",
       "  \u001b[32m\"a\"\u001b[39m -> \u001b[32m1\u001b[39m,\n",
       "  \u001b[32m\"file.\"\u001b[39m -> \u001b[32m1\u001b[39m,\n",
       "  \u001b[32m\"world.\"\u001b[39m -> \u001b[32m2\u001b[39m,\n",
       "  \u001b[32m\"mock\"\u001b[39m -> \u001b[32m1\u001b[39m,\n",
       "  \u001b[32m\"hello\"\u001b[39m -> \u001b[32m2\u001b[39m\n",
       ")"
      ]
     },
     "execution_count": 4,
     "metadata": {},
     "output_type": "execute_result"
    }
   ],
   "source": [
    "val count = new scala.collection.mutable.HashMap[String, Int]\n",
    "for (t <- tokens) count(t) = count.getOrElse(t, 0) + 1"
   ]
  },
  {
   "cell_type": "markdown",
   "metadata": {},
   "source": [
    "#### 3\\. Count words in a file with immutatble map"
   ]
  },
  {
   "cell_type": "code",
   "execution_count": 5,
   "metadata": {
    "scrolled": true
   },
   "outputs": [
    {
     "data": {
      "text/plain": [
       "\u001b[36min\u001b[39m: \u001b[32mio\u001b[39m.\u001b[32mBufferedSource\u001b[39m = empty iterator\n",
       "\u001b[36mtokens\u001b[39m: \u001b[32mArray\u001b[39m[\u001b[32mString\u001b[39m] = \u001b[33mArray\u001b[39m(\u001b[32m\"hello\"\u001b[39m, \u001b[32m\"world.\"\u001b[39m, \u001b[32m\"This\"\u001b[39m, \u001b[32m\"is\"\u001b[39m, \u001b[32m\"a\"\u001b[39m, \u001b[32m\"mock\"\u001b[39m, \u001b[32m\"file.\"\u001b[39m, \u001b[32m\"hello\"\u001b[39m, \u001b[32m\"world.\"\u001b[39m)"
      ]
     },
     "execution_count": 5,
     "metadata": {},
     "output_type": "execute_result"
    }
   ],
   "source": [
    "val in = scala.io.Source.fromFile(\"./ex4-mockfile.txt\")\n",
    "val tokens = in.mkString.split(\"\\\\s+\")"
   ]
  },
  {
   "cell_type": "code",
   "execution_count": 6,
   "metadata": {},
   "outputs": [
    {
     "data": {
      "text/plain": [
       "\u001b[36mcount\u001b[39m: \u001b[32mcollection\u001b[39m.\u001b[32mimmutable\u001b[39m.\u001b[32mHashMap\u001b[39m[\u001b[32mString\u001b[39m, \u001b[32mInt\u001b[39m] = \u001b[33mMap\u001b[39m()"
      ]
     },
     "execution_count": 6,
     "metadata": {},
     "output_type": "execute_result"
    }
   ],
   "source": [
    "var count = new scala.collection.immutable.HashMap[String, Int]"
   ]
  },
  {
   "cell_type": "code",
   "execution_count": 7,
   "metadata": {},
   "outputs": [],
   "source": [
    "for (t <- tokens) count = count + (t -> (count.getOrElse(t, 0) + 1))"
   ]
  },
  {
   "cell_type": "code",
   "execution_count": 8,
   "metadata": {},
   "outputs": [
    {
     "name": "stdout",
     "output_type": "stream",
     "text": [
      "world.: 2\n",
      "is: 1\n",
      "file.: 1\n",
      "mock: 1\n",
      "This: 1\n",
      "a: 1\n",
      "hello: 2\n"
     ]
    }
   ],
   "source": [
    "for ((k, v) <- count) println(s\"$k: $v\")"
   ]
  },
  {
   "cell_type": "markdown",
   "metadata": {},
   "source": [
    "#### 4\\. Count words with sorted map"
   ]
  },
  {
   "cell_type": "code",
   "execution_count": 9,
   "metadata": {
    "scrolled": true
   },
   "outputs": [
    {
     "data": {
      "text/plain": [
       "\u001b[36min\u001b[39m: \u001b[32mio\u001b[39m.\u001b[32mBufferedSource\u001b[39m = empty iterator\n",
       "\u001b[36mtokens\u001b[39m: \u001b[32mArray\u001b[39m[\u001b[32mString\u001b[39m] = \u001b[33mArray\u001b[39m(\u001b[32m\"hello\"\u001b[39m, \u001b[32m\"world.\"\u001b[39m, \u001b[32m\"This\"\u001b[39m, \u001b[32m\"is\"\u001b[39m, \u001b[32m\"a\"\u001b[39m, \u001b[32m\"mock\"\u001b[39m, \u001b[32m\"file.\"\u001b[39m, \u001b[32m\"hello\"\u001b[39m, \u001b[32m\"world.\"\u001b[39m)"
      ]
     },
     "execution_count": 9,
     "metadata": {},
     "output_type": "execute_result"
    }
   ],
   "source": [
    "val in = scala.io.Source.fromFile(\"./ex4-mockfile.txt\")\n",
    "val tokens = in.mkString.split(\"\\\\s+\")"
   ]
  },
  {
   "cell_type": "code",
   "execution_count": 10,
   "metadata": {},
   "outputs": [
    {
     "data": {
      "text/plain": [
       "\u001b[36mcount\u001b[39m: \u001b[32mcollection\u001b[39m.\u001b[32mimmutable\u001b[39m.\u001b[32mSortedMap\u001b[39m[\u001b[32mString\u001b[39m, \u001b[32mInt\u001b[39m] = \u001b[33mMap\u001b[39m()"
      ]
     },
     "execution_count": 10,
     "metadata": {},
     "output_type": "execute_result"
    }
   ],
   "source": [
    "var count = scala.collection.immutable.SortedMap[String, Int]()"
   ]
  },
  {
   "cell_type": "code",
   "execution_count": 11,
   "metadata": {},
   "outputs": [],
   "source": [
    "for (t <- tokens) count = count + (t -> (count.getOrElse(t, 0) + 1))"
   ]
  },
  {
   "cell_type": "code",
   "execution_count": 12,
   "metadata": {},
   "outputs": [
    {
     "name": "stdout",
     "output_type": "stream",
     "text": [
      "This: 1\n",
      "a: 1\n",
      "file.: 1\n",
      "hello: 2\n",
      "is: 1\n",
      "mock: 1\n",
      "world.: 2\n"
     ]
    }
   ],
   "source": [
    "for ((k, v) <- count) println(s\"$k: $v\")"
   ]
  },
  {
   "cell_type": "code",
   "execution_count": 13,
   "metadata": {},
   "outputs": [
    {
     "data": {
      "text/plain": [
       "\u001b[36mres12\u001b[39m: \u001b[32mArray\u001b[39m[\u001b[32mString\u001b[39m] = \u001b[33mArray\u001b[39m(\u001b[32m\"This\"\u001b[39m, \u001b[32m\"a\"\u001b[39m, \u001b[32m\"file.\"\u001b[39m, \u001b[32m\"hello\"\u001b[39m, \u001b[32m\"hello\"\u001b[39m, \u001b[32m\"is\"\u001b[39m, \u001b[32m\"mock\"\u001b[39m, \u001b[32m\"world.\"\u001b[39m, \u001b[32m\"world.\"\u001b[39m)"
      ]
     },
     "execution_count": 13,
     "metadata": {},
     "output_type": "execute_result"
    }
   ],
   "source": [
    "// to verify keys are sorted\n",
    "tokens.sorted"
   ]
  },
  {
   "cell_type": "markdown",
   "metadata": {},
   "source": [
    "##### 5\\. word count with `java.util.TreeMap`"
   ]
  },
  {
   "cell_type": "code",
   "execution_count": 14,
   "metadata": {},
   "outputs": [
    {
     "data": {
      "text/plain": [
       "\u001b[36min\u001b[39m: \u001b[32mio\u001b[39m.\u001b[32mBufferedSource\u001b[39m = empty iterator\n",
       "\u001b[36mtokens\u001b[39m: \u001b[32mArray\u001b[39m[\u001b[32mString\u001b[39m] = \u001b[33mArray\u001b[39m(\u001b[32m\"hello\"\u001b[39m, \u001b[32m\"world.\"\u001b[39m, \u001b[32m\"This\"\u001b[39m, \u001b[32m\"is\"\u001b[39m, \u001b[32m\"a\"\u001b[39m, \u001b[32m\"mock\"\u001b[39m, \u001b[32m\"file.\"\u001b[39m, \u001b[32m\"hello\"\u001b[39m, \u001b[32m\"world.\"\u001b[39m)"
      ]
     },
     "execution_count": 14,
     "metadata": {},
     "output_type": "execute_result"
    }
   ],
   "source": [
    "val in = scala.io.Source.fromFile(\"./ex4-mockfile.txt\")\n",
    "val tokens = in.mkString.split(\"\\\\s+\")"
   ]
  },
  {
   "cell_type": "code",
   "execution_count": 15,
   "metadata": {},
   "outputs": [
    {
     "data": {
      "text/plain": [
       "\u001b[32mimport \u001b[39m\u001b[36mscala.collection.JavaConversions.mapAsScalaMap\u001b[39m"
      ]
     },
     "execution_count": 15,
     "metadata": {},
     "output_type": "execute_result"
    }
   ],
   "source": [
    "import scala.collection.JavaConversions.mapAsScalaMap"
   ]
  },
  {
   "cell_type": "code",
   "execution_count": 16,
   "metadata": {},
   "outputs": [
    {
     "data": {
      "text/plain": [
       "\u001b[36mcount\u001b[39m: \u001b[32mcollection\u001b[39m.\u001b[32mmutable\u001b[39m.\u001b[32mMap\u001b[39m[\u001b[32mString\u001b[39m, \u001b[32mInt\u001b[39m] = \u001b[33mMap\u001b[39m()"
      ]
     },
     "execution_count": 16,
     "metadata": {},
     "output_type": "execute_result"
    }
   ],
   "source": [
    "val count: scala.collection.mutable.Map[String, Int] = new java.util.TreeMap[String, Int]"
   ]
  },
  {
   "cell_type": "code",
   "execution_count": 17,
   "metadata": {},
   "outputs": [],
   "source": [
    "for (t <- tokens) count(t) = count.getOrElse(t, 0) + 1"
   ]
  },
  {
   "cell_type": "code",
   "execution_count": 18,
   "metadata": {},
   "outputs": [
    {
     "data": {
      "text/plain": [
       "\u001b[36mres17\u001b[39m: \u001b[32mcollection\u001b[39m.\u001b[32mmutable\u001b[39m.\u001b[32mMap\u001b[39m[\u001b[32mString\u001b[39m, \u001b[32mInt\u001b[39m] = \u001b[33mMap\u001b[39m(\n",
       "  \u001b[32m\"This\"\u001b[39m -> \u001b[32m1\u001b[39m,\n",
       "  \u001b[32m\"a\"\u001b[39m -> \u001b[32m1\u001b[39m,\n",
       "  \u001b[32m\"file.\"\u001b[39m -> \u001b[32m1\u001b[39m,\n",
       "  \u001b[32m\"hello\"\u001b[39m -> \u001b[32m2\u001b[39m,\n",
       "  \u001b[32m\"is\"\u001b[39m -> \u001b[32m1\u001b[39m,\n",
       "  \u001b[32m\"mock\"\u001b[39m -> \u001b[32m1\u001b[39m,\n",
       "  \u001b[32m\"world.\"\u001b[39m -> \u001b[32m2\u001b[39m\n",
       ")"
      ]
     },
     "execution_count": 18,
     "metadata": {},
     "output_type": "execute_result"
    }
   ],
   "source": [
    "count"
   ]
  },
  {
   "cell_type": "markdown",
   "metadata": {},
   "source": [
    "#### 6\\. Linked hash map for weekdays"
   ]
  },
  {
   "cell_type": "code",
   "execution_count": 19,
   "metadata": {},
   "outputs": [
    {
     "data": {
      "text/plain": [
       "\u001b[32mimport \u001b[39m\u001b[36mjava.util.Calendar._\u001b[39m"
      ]
     },
     "execution_count": 19,
     "metadata": {},
     "output_type": "execute_result"
    }
   ],
   "source": [
    "import java.util.Calendar._"
   ]
  },
  {
   "cell_type": "code",
   "execution_count": 20,
   "metadata": {},
   "outputs": [
    {
     "data": {
      "text/plain": [
       "\u001b[36mweekdays\u001b[39m: \u001b[32mcollection\u001b[39m.\u001b[32mmutable\u001b[39m.\u001b[32mLinkedHashMap\u001b[39m[\u001b[32mString\u001b[39m, \u001b[32mInt\u001b[39m] = \u001b[33mMap\u001b[39m(\n",
       "  \u001b[32m\"Monday\"\u001b[39m -> \u001b[32m2\u001b[39m,\n",
       "  \u001b[32m\"Tuesday\"\u001b[39m -> \u001b[32m3\u001b[39m,\n",
       "  \u001b[32m\"Wednesday\"\u001b[39m -> \u001b[32m4\u001b[39m,\n",
       "  \u001b[32m\"Thursday\"\u001b[39m -> \u001b[32m5\u001b[39m,\n",
       "  \u001b[32m\"Friday\"\u001b[39m -> \u001b[32m6\u001b[39m,\n",
       "  \u001b[32m\"Saturday\"\u001b[39m -> \u001b[32m7\u001b[39m,\n",
       "  \u001b[32m\"Sunday\"\u001b[39m -> \u001b[32m1\u001b[39m\n",
       ")"
      ]
     },
     "execution_count": 20,
     "metadata": {},
     "output_type": "execute_result"
    }
   ],
   "source": [
    "val weekdays = scala.collection.mutable.LinkedHashMap(\n",
    "    \"Monday\" -> MONDAY,\n",
    "    \"Tuesday\" -> TUESDAY,\n",
    "    \"Wednesday\" -> WEDNESDAY,\n",
    "    \"Thursday\" -> THURSDAY,\n",
    "    \"Friday\" -> FRIDAY,\n",
    "    \"Saturday\" -> SATURDAY,\n",
    "    \"Sunday\" -> SUNDAY\n",
    ")"
   ]
  },
  {
   "cell_type": "code",
   "execution_count": 21,
   "metadata": {},
   "outputs": [
    {
     "name": "stdout",
     "output_type": "stream",
     "text": [
      "Monday=2\n",
      "Tuesday=3\n",
      "Wednesday=4\n",
      "Thursday=5\n",
      "Friday=6\n",
      "Saturday=7\n",
      "Sunday=1\n"
     ]
    }
   ],
   "source": [
    "for ( (k, v) <- weekdays) printf(\"%s=%d\\n\", k, v)"
   ]
  },
  {
   "cell_type": "markdown",
   "metadata": {},
   "source": [
    "#### 7\\. Print Java properties"
   ]
  },
  {
   "cell_type": "code",
   "execution_count": 22,
   "metadata": {},
   "outputs": [
    {
     "data": {
      "text/plain": [
       "\u001b[32mimport \u001b[39m\u001b[36mscala.collection.JavaConversions.propertiesAsScalaMap\u001b[39m"
      ]
     },
     "execution_count": 22,
     "metadata": {},
     "output_type": "execute_result"
    }
   ],
   "source": [
    "import scala.collection.JavaConversions.propertiesAsScalaMap"
   ]
  },
  {
   "cell_type": "code",
   "execution_count": 23,
   "metadata": {},
   "outputs": [
    {
     "data": {
      "text/plain": [
       "\u001b[36mprops\u001b[39m: \u001b[32mcollection\u001b[39m.\u001b[32mmutable\u001b[39m.\u001b[32mMap\u001b[39m[\u001b[32mString\u001b[39m, \u001b[32mString\u001b[39m] = \u001b[33mMap\u001b[39m(\n",
       "  \u001b[32m\"java.vendor\"\u001b[39m -> \u001b[32m\"Oracle Corporation\"\u001b[39m,\n",
       "  \u001b[32m\"sun.java.launcher\"\u001b[39m -> \u001b[32m\"SUN_STANDARD\"\u001b[39m,\n",
       "  \u001b[32m\"sun.management.compiler\"\u001b[39m -> \u001b[32m\"HotSpot 64-Bit Tiered Compilers\"\u001b[39m,\n",
       "  \u001b[32m\"coursier.main.arg-9\"\u001b[39m -> \u001b[32m\"-I\"\u001b[39m,\n",
       "  \u001b[32m\"coursier.main.arg-8\"\u001b[39m -> \u001b[32m\"ammonite:org.jupyter-scala:ammonite-runtime_2.11.11:0.8.3-1\"\u001b[39m,\n",
       "  \u001b[32m\"coursier.main.arg-7\"\u001b[39m -> \u001b[32m\"-I\"\u001b[39m,\n",
       "  \u001b[32m\"coursier.main.arg-6\"\u001b[39m -> \u001b[32m\"ammonite\"\u001b[39m,\n",
       "  \u001b[32m\"coursier.main.arg-5\"\u001b[39m -> \u001b[32m\"-i\"\u001b[39m,\n",
       "  \u001b[32m\"os.name\"\u001b[39m -> \u001b[32m\"Mac OS X\"\u001b[39m,\n",
       "  \u001b[32m\"coursier.main.arg-4\"\u001b[39m -> \u001b[32m\"sonatype:snapshots\"\u001b[39m,\n",
       "\u001b[33m...\u001b[39m"
      ]
     },
     "execution_count": 23,
     "metadata": {},
     "output_type": "execute_result"
    }
   ],
   "source": [
    "val props = propertiesAsScalaMap(System.getProperties())"
   ]
  },
  {
   "cell_type": "code",
   "execution_count": 24,
   "metadata": {},
   "outputs": [
    {
     "data": {
      "text/plain": [
       "\u001b[36mmaxLen\u001b[39m: \u001b[32mInt\u001b[39m = \u001b[32m29\u001b[39m"
      ]
     },
     "execution_count": 24,
     "metadata": {},
     "output_type": "execute_result"
    }
   ],
   "source": [
    "val maxLen = props.keySet.map(_.length).max"
   ]
  },
  {
   "cell_type": "code",
   "execution_count": 25,
   "metadata": {},
   "outputs": [
    {
     "name": "stdout",
     "output_type": "stream",
     "text": [
      "java.vendor                   | Oracle Corporation\n",
      "sun.java.launcher             | SUN_STANDARD\n",
      "sun.management.compiler       | HotSpot 64-Bit Tiered Compilers\n",
      "coursier.main.arg-9           | -I\n",
      "coursier.main.arg-8           | ammonite:org.jupyter-scala:ammonite-runtime_2.11.11:0.8.3-1\n",
      "coursier.main.arg-7           | -I\n",
      "coursier.main.arg-6           | ammonite\n",
      "coursier.main.arg-5           | -i\n",
      "os.name                       | Mac OS X\n",
      "coursier.main.arg-4           | sonatype:snapshots\n",
      "coursier.main.arg-3           | -r\n",
      "sun.boot.class.path           | /Library/Java/JavaVirtualMachines/jdk1.8.0_45.jdk/Contents/Home/jre/lib/resources.jar:/Library/Java/JavaVirtualMachines/jdk1.8.0_45.jdk/Contents/Home/jre/lib/rt.jar:/Library/Java/JavaVirtualMachines/jdk1.8.0_45.jdk/Contents/Home/jre/lib/sunrsasign.jar:/Library/Java/JavaVirtualMachines/jdk1.8.0_45.jdk/Contents/Home/jre/lib/jsse.jar:/Library/Java/JavaVirtualMachines/jdk1.8.0_45.jdk/Contents/Home/jre/lib/jce.jar:/Library/Java/JavaVirtualMachines/jdk1.8.0_45.jdk/Contents/Home/jre/lib/charsets.jar:/Library/Java/JavaVirtualMachines/jdk1.8.0_45.jdk/Contents/Home/jre/lib/jfr.jar:/Library/Java/JavaVirtualMachines/jdk1.8.0_45.jdk/Contents/Home/jre/classes\n",
      "coursier.main.arg-2           | sonatype:releases\n",
      "coursier.main.arg-1           | -r\n",
      "coursier.mainJar              | /Users/zyxue/Library/Jupyter/kernels/scala/launcher.jar\n",
      "user.country.format           | CA\n",
      "coursier.main.arg-0           | launch\n",
      "java.vm.specification.vendor  | Oracle Corporation\n",
      "java.runtime.version          | 1.8.0_45-b14\n",
      "user.name                     | zyxue\n",
      "user.language                 | en\n",
      "sun.boot.library.path         | /Library/Java/JavaVirtualMachines/jdk1.8.0_45.jdk/Contents/Home/jre/lib\n",
      "java.version                  | 1.8.0_45\n",
      "user.timezone                 | America/Vancouver\n",
      "sun.arch.data.model           | 64\n",
      "http.nonProxyHosts            | local|*.local|169.254/16|*.169.254/16\n",
      "java.endorsed.dirs            | /Library/Java/JavaVirtualMachines/jdk1.8.0_45.jdk/Contents/Home/jre/lib/endorsed\n",
      "bootstrap.jarDir              | /Users/zyxue/.coursier/bootstrap/1.0.0-RC1\n",
      "sun.cpu.isalist               | \n",
      "sun.jnu.encoding              | UTF-8\n",
      "file.encoding.pkg             | sun.io\n",
      "file.separator                | /\n",
      "java.specification.name       | Java Platform API Specification\n",
      "java.class.version            | 52.0\n",
      "user.country                  | US\n",
      "java.home                     | /Library/Java/JavaVirtualMachines/jdk1.8.0_45.jdk/Contents/Home/jre\n",
      "java.vm.info                  | mixed mode\n",
      "os.version                    | 10.11.6\n",
      "path.separator                | :\n",
      "java.vm.version               | 25.45-b02\n",
      "java.awt.printerjob           | sun.lwawt.macosx.CPrinterJob\n",
      "sun.io.unicode.encoding       | UnicodeBig\n",
      "awt.toolkit                   | sun.lwawt.macosx.LWCToolkit\n",
      "socksNonProxyHosts            | local|*.local|169.254/16|*.169.254/16\n",
      "ftp.nonProxyHosts             | local|*.local|169.254/16|*.169.254/16\n",
      "user.home                     | /Users/zyxue\n",
      "java.specification.vendor     | Oracle Corporation\n",
      "java.library.path             | /Users/zyxue/Library/Java/Extensions:/Library/Java/Extensions:/Network/Library/Java/Extensions:/System/Library/Java/Extensions:/usr/lib/java:.\n",
      "java.vendor.url               | http://java.oracle.com/\n",
      "java.vm.vendor                | Oracle Corporation\n",
      "gopherProxySet                | false\n",
      "coursier.main.arg-19          | /Users/zyxue/Library/Jupyter/runtime/kernel-a5814065-a412-4e6b-b997-50fdc5b446f4.json\n",
      "coursier.main.arg-18          | --connection-file\n",
      "coursier.main.arg-17          | --quiet\n",
      "java.runtime.name             | Java(TM) SE Runtime Environment\n",
      "coursier.main.arg-16          | Scala\n",
      "sun.java.command              | /Users/zyxue/Library/Jupyter/kernels/scala/launcher.jar launch -r sonatype:releases -r sonatype:snapshots -i ammonite -I ammonite:org.jupyter-scala:ammonite-runtime_2.11.11:0.8.3-1 -I ammonite:org.jupyter-scala:scala-api_2.11.11:0.4.2 org.jupyter-scala:scala-cli_2.11.11:0.4.2 -- --id scala --name Scala --quiet --connection-file /Users/zyxue/Library/Jupyter/runtime/kernel-a5814065-a412-4e6b-b997-50fdc5b446f4.json\n",
      "java.class.path               | /Users/zyxue/Library/Jupyter/kernels/scala/launcher.jar\n",
      "coursier.main.arg-15          | --name\n",
      "coursier.main.arg-14          | scala\n",
      "coursier.main.arg-13          | --id\n",
      "coursier.main.arg-12          | --\n",
      "coursier.main.arg-11          | org.jupyter-scala:scala-cli_2.11.11:0.4.2\n",
      "coursier.main.arg-10          | ammonite:org.jupyter-scala:scala-api_2.11.11:0.4.2\n",
      "java.vm.specification.name    | Java Virtual Machine Specification\n",
      "java.vm.specification.version | 1.8\n",
      "sun.cpu.endian                | little\n",
      "sun.os.patch.level            | unknown\n",
      "java.io.tmpdir                | /var/folders/79/dh9kb7m51m10qqhwqh4hg9pm0000gn/T/\n",
      "java.vendor.url.bug           | http://bugreport.sun.com/bugreport/\n",
      "os.arch                       | x86_64\n",
      "java.awt.graphicsenv          | sun.awt.CGraphicsEnvironment\n",
      "java.ext.dirs                 | /Users/zyxue/Library/Java/Extensions:/Library/Java/JavaVirtualMachines/jdk1.8.0_45.jdk/Contents/Home/jre/lib/ext:/Library/Java/Extensions:/Network/Library/Java/Extensions:/System/Library/Java/Extensions:/usr/lib/java\n",
      "bootstrap.mainClass           | coursier.cli.Coursier\n",
      "user.dir                      | /Users/zyxue/Projects/scala-impatient\n",
      "line.separator                | \n",
      "\n",
      "java.vm.name                  | Java HotSpot(TM) 64-Bit Server VM\n",
      "file.encoding                 | UTF-8\n",
      "java.specification.version    | 1.8\n"
     ]
    }
   ],
   "source": [
    "for ((k, v) <- props) printf(\"%-\" + maxLen + \"s | %s\\n\", k, v)"
   ]
  },
  {
   "cell_type": "markdown",
   "metadata": {},
   "source": [
    "#### 8\\. `minmax`"
   ]
  },
  {
   "cell_type": "code",
   "execution_count": 26,
   "metadata": {},
   "outputs": [
    {
     "data": {
      "text/plain": [
       "\u001b[36mminmax\u001b[39m: \u001b[32mArray\u001b[39m[\u001b[32mInt\u001b[39m] => (\u001b[32mInt\u001b[39m, \u001b[32mInt\u001b[39m) = <function1>"
      ]
     },
     "execution_count": 26,
     "metadata": {},
     "output_type": "execute_result"
    }
   ],
   "source": [
    "val minmax = (x:Array[Int]) => (x.min, x.max)"
   ]
  },
  {
   "cell_type": "code",
   "execution_count": 27,
   "metadata": {},
   "outputs": [
    {
     "data": {
      "text/plain": [
       "\u001b[36mres26\u001b[39m: (\u001b[32mInt\u001b[39m, \u001b[32mInt\u001b[39m) = (\u001b[32m1\u001b[39m, \u001b[32m3\u001b[39m)"
      ]
     },
     "execution_count": 27,
     "metadata": {},
     "output_type": "execute_result"
    }
   ],
   "source": [
    "minmax(Array(1, 2, 3))"
   ]
  },
  {
   "cell_type": "markdown",
   "metadata": {},
   "source": [
    "#### 9\\. `lteqgt`"
   ]
  },
  {
   "cell_type": "code",
   "execution_count": 28,
   "metadata": {},
   "outputs": [
    {
     "data": {
      "text/plain": [
       "\u001b[36mlteqgt\u001b[39m: (\u001b[32mArray\u001b[39m[\u001b[32mInt\u001b[39m], \u001b[32mInt\u001b[39m) => (\u001b[32mInt\u001b[39m, \u001b[32mInt\u001b[39m, \u001b[32mInt\u001b[39m) = <function2>"
      ]
     },
     "execution_count": 28,
     "metadata": {},
     "output_type": "execute_result"
    }
   ],
   "source": [
    "val lteqgt = (x:Array[Int], v:Int) => (\n",
    "    x.filter(_ < v).length,\n",
    "    x.filter(_ == v).length,\n",
    "    x.filter(_ > v).length\n",
    ")"
   ]
  },
  {
   "cell_type": "code",
   "execution_count": 29,
   "metadata": {},
   "outputs": [
    {
     "data": {
      "text/plain": [
       "\u001b[36mres28\u001b[39m: (\u001b[32mInt\u001b[39m, \u001b[32mInt\u001b[39m, \u001b[32mInt\u001b[39m) = (\u001b[32m1\u001b[39m, \u001b[32m1\u001b[39m, \u001b[32m1\u001b[39m)"
      ]
     },
     "execution_count": 29,
     "metadata": {},
     "output_type": "execute_result"
    }
   ],
   "source": [
    "lteqgt(Array(1, 2, 3), 2)"
   ]
  },
  {
   "cell_type": "code",
   "execution_count": 30,
   "metadata": {},
   "outputs": [
    {
     "data": {
      "text/plain": [
       "\u001b[36mres29\u001b[39m: (\u001b[32mInt\u001b[39m, \u001b[32mInt\u001b[39m, \u001b[32mInt\u001b[39m) = (\u001b[32m1\u001b[39m, \u001b[32m1\u001b[39m, \u001b[32m2\u001b[39m)"
      ]
     },
     "execution_count": 30,
     "metadata": {},
     "output_type": "execute_result"
    }
   ],
   "source": [
    "lteqgt(Array(1, 2, 3, 4), 2)"
   ]
  },
  {
   "cell_type": "markdown",
   "metadata": {},
   "source": [
    "#### 10\\. "
   ]
  },
  {
   "cell_type": "code",
   "execution_count": 31,
   "metadata": {},
   "outputs": [
    {
     "data": {
      "text/plain": [
       "\u001b[36mres30\u001b[39m: \u001b[32mcollection\u001b[39m.\u001b[32mimmutable\u001b[39m.\u001b[32mIndexedSeq\u001b[39m[(\u001b[32mChar\u001b[39m, \u001b[32mChar\u001b[39m)] = \u001b[33mVector\u001b[39m((\u001b[32m'H'\u001b[39m, \u001b[32m'W'\u001b[39m), (\u001b[32m'e'\u001b[39m, \u001b[32m'o'\u001b[39m), (\u001b[32m'l'\u001b[39m, \u001b[32m'r'\u001b[39m), (\u001b[32m'l'\u001b[39m, \u001b[32m'l'\u001b[39m), (\u001b[32m'o'\u001b[39m, \u001b[32m'd'\u001b[39m))"
      ]
     },
     "execution_count": 31,
     "metadata": {},
     "output_type": "execute_result"
    }
   ],
   "source": [
    "\"Hello\".zip(\"World\")"
   ]
  },
  {
   "cell_type": "code",
   "execution_count": null,
   "metadata": {},
   "outputs": [],
   "source": []
  }
 ],
 "metadata": {
  "kernelspec": {
   "display_name": "Scala",
   "language": "scala",
   "name": "scala"
  },
  "language_info": {
   "codemirror_mode": "text/x-scala",
   "file_extension": ".scala",
   "mimetype": "text/x-scala",
   "name": "scala211",
   "nbconvert_exporter": "script",
   "pygments_lexer": "scala",
   "version": "2.11.11"
  }
 },
 "nbformat": 4,
 "nbformat_minor": 2
}
